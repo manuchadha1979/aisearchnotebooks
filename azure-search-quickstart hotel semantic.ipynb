{
 "cells": [
  {
   "attachments": {},
   "cell_type": "markdown",
   "metadata": {},
   "source": [
    "# Create a search index in Azure AI Search using the Azure SDK for Python"
   ]
  },
  {
   "attachments": {},
   "cell_type": "markdown",
   "metadata": {},
   "source": [
    "This Jupyter Notebook steps through creating, loading, and querying an index in Azure AI Search index by calling the azure-search-documents library in the Azure SDK for Python. "
   ]
  },
  {
   "cell_type": "code",
   "execution_count": 55,
   "metadata": {},
   "outputs": [
    {
     "name": "stdout",
     "output_type": "stream",
     "text": [
      "Requirement already satisfied: azure-search-documents in c:\\users\\manuchadha\\onedrive - microsoft\\manu_microsoft\\demo-data\\aoai-openai\\aoai-code\\.venv\\lib\\site-packages (11.4.0)\n",
      "Requirement already satisfied: azure-core<2.0.0,>=1.28.0 in c:\\users\\manuchadha\\onedrive - microsoft\\manu_microsoft\\demo-data\\aoai-openai\\aoai-code\\.venv\\lib\\site-packages (from azure-search-documents) (1.29.6)\n",
      "Requirement already satisfied: azure-common~=1.1 in c:\\users\\manuchadha\\onedrive - microsoft\\manu_microsoft\\demo-data\\aoai-openai\\aoai-code\\.venv\\lib\\site-packages (from azure-search-documents) (1.1.28)\n",
      "Requirement already satisfied: isodate>=0.6.0 in c:\\users\\manuchadha\\onedrive - microsoft\\manu_microsoft\\demo-data\\aoai-openai\\aoai-code\\.venv\\lib\\site-packages (from azure-search-documents) (0.6.1)\n",
      "Requirement already satisfied: anyio<5.0,>=3.0 in c:\\users\\manuchadha\\onedrive - microsoft\\manu_microsoft\\demo-data\\aoai-openai\\aoai-code\\.venv\\lib\\site-packages (from azure-core<2.0.0,>=1.28.0->azure-search-documents) (4.2.0)\n",
      "Requirement already satisfied: requests>=2.21.0 in c:\\users\\manuchadha\\onedrive - microsoft\\manu_microsoft\\demo-data\\aoai-openai\\aoai-code\\.venv\\lib\\site-packages (from azure-core<2.0.0,>=1.28.0->azure-search-documents) (2.31.0)\n",
      "Requirement already satisfied: six>=1.11.0 in c:\\users\\manuchadha\\onedrive - microsoft\\manu_microsoft\\demo-data\\aoai-openai\\aoai-code\\.venv\\lib\\site-packages (from azure-core<2.0.0,>=1.28.0->azure-search-documents) (1.16.0)\n",
      "Requirement already satisfied: typing-extensions>=4.6.0 in c:\\users\\manuchadha\\onedrive - microsoft\\manu_microsoft\\demo-data\\aoai-openai\\aoai-code\\.venv\\lib\\site-packages (from azure-core<2.0.0,>=1.28.0->azure-search-documents) (4.9.0)\n",
      "Requirement already satisfied: idna>=2.8 in c:\\users\\manuchadha\\onedrive - microsoft\\manu_microsoft\\demo-data\\aoai-openai\\aoai-code\\.venv\\lib\\site-packages (from anyio<5.0,>=3.0->azure-core<2.0.0,>=1.28.0->azure-search-documents) (3.6)\n",
      "Requirement already satisfied: sniffio>=1.1 in c:\\users\\manuchadha\\onedrive - microsoft\\manu_microsoft\\demo-data\\aoai-openai\\aoai-code\\.venv\\lib\\site-packages (from anyio<5.0,>=3.0->azure-core<2.0.0,>=1.28.0->azure-search-documents) (1.3.0)\n",
      "Requirement already satisfied: charset-normalizer<4,>=2 in c:\\users\\manuchadha\\onedrive - microsoft\\manu_microsoft\\demo-data\\aoai-openai\\aoai-code\\.venv\\lib\\site-packages (from requests>=2.21.0->azure-core<2.0.0,>=1.28.0->azure-search-documents) (3.3.2)\n",
      "Requirement already satisfied: urllib3<3,>=1.21.1 in c:\\users\\manuchadha\\onedrive - microsoft\\manu_microsoft\\demo-data\\aoai-openai\\aoai-code\\.venv\\lib\\site-packages (from requests>=2.21.0->azure-core<2.0.0,>=1.28.0->azure-search-documents) (2.1.0)\n",
      "Requirement already satisfied: certifi>=2017.4.17 in c:\\users\\manuchadha\\onedrive - microsoft\\manu_microsoft\\demo-data\\aoai-openai\\aoai-code\\.venv\\lib\\site-packages (from requests>=2.21.0->azure-core<2.0.0,>=1.28.0->azure-search-documents) (2023.11.17)\n",
      "Note: you may need to restart the kernel to use updated packages.\n",
      "Name: azure-search-documentsNote: you may need to restart the kernel to use updated packages.\n",
      "\n",
      "Version: 11.4.0\n",
      "Summary: Microsoft Azure Cognitive Search Client Library for Python\n",
      "Home-page: https://github.com/Azure/azure-sdk-for-python/tree/main/sdk/search/azure-search-documents\n",
      "Author: Microsoft Corporation\n",
      "Author-email: ascl@microsoft.com\n",
      "License: MIT License\n",
      "Location: c:\\Users\\manuchadha\\OneDrive - Microsoft\\Manu_Microsoft\\demo-data\\aoai-openai\\aoai-code\\.venv\\Lib\\site-packages\n",
      "Requires: azure-common, azure-core, isodate\n",
      "Required-by: \n",
      "Requirement already satisfied: python-dotenv in c:\\users\\manuchadha\\onedrive - microsoft\\manu_microsoft\\demo-data\\aoai-openai\\aoai-code\\.venv\\lib\\site-packages (1.0.0)\n",
      "Note: you may need to restart the kernel to use updated packages.\n"
     ]
    }
   ],
   "source": [
    "# Uncomment the next line if you need to install the azure-search-documents client library:\n",
    "%pip install azure-search-documents --pre --upgrade\n",
    "%pip show azure-search-documents\n",
    "%pip install python-dotenv\n",
    "\n",
    "import os\n",
    "from azure.core.credentials import AzureKeyCredential\n",
    "from azure.search.documents.indexes import SearchIndexClient \n",
    "from azure.search.documents import SearchClient\n",
    "\n",
    "from azure.search.documents.indexes.models import (  \n",
    "    CorsOptions,\n",
    "    SearchIndex,  \n",
    "    SearchField,  \n",
    "    SemanticSearch,\n",
    "    SearchFieldDataType,  \n",
    "    SimpleField,  \n",
    "    SearchableField,\n",
    "    ComplexField,\n",
    "    SearchIndex,  \n",
    "    SemanticConfiguration,  \n",
    "    SemanticPrioritizedFields,  \n",
    "    SemanticField \n",
    ")"
   ]
  },
  {
   "attachments": {},
   "cell_type": "markdown",
   "metadata": {},
   "source": [
    "In this step, initialize the search client used to make each request. Provide the name and admin API key of your search service. If you get ConnectionError \"Failed to establish a new connection\", verify that the api-key is a primary or secondary admin key, and not a query key."
   ]
  },
  {
   "cell_type": "code",
   "execution_count": 104,
   "metadata": {},
   "outputs": [],
   "source": [
    "# Set the service endpoint and API key from the environment\n",
    "\n",
    "service_name = \"aisearchmcuksouth\"\n",
    "admin_key = \"sguckbZFk6EbbP8Azrosy1temBCqumUdCSW73ZLJ5JAzSeBNqRps\"\n",
    "\n",
    "index_name = \"hotel-finder-semantic\"\n",
    "\n",
    "# Create an SDK client\n",
    "endpoint = \"https://aisearchmcuksouth.search.windows.net\".format(service_name)\n",
    "admin_client = SearchIndexClient(endpoint=endpoint,\n",
    "                      index_name=index_name,\n",
    "                      credential=AzureKeyCredential(admin_key))\n",
    "\n",
    "search_client = SearchClient(endpoint=endpoint,\n",
    "                      index_name=index_name,\n",
    "                      credential=AzureKeyCredential(admin_key))\n"
   ]
  },
  {
   "attachments": {},
   "cell_type": "markdown",
   "metadata": {},
   "source": [
    "In the third cell, the index \"invoices-finder\" will be deleted if it previously existed."
   ]
  },
  {
   "cell_type": "code",
   "execution_count": 105,
   "metadata": {},
   "outputs": [
    {
     "name": "stdout",
     "output_type": "stream",
     "text": [
      "Index hotel-finder-semantic Deleted\n"
     ]
    }
   ],
   "source": [
    "# Delete the index if it exists\n",
    "try:\n",
    "    result = admin_client.delete_index(index_name)\n",
    "    print ('Index', index_name, 'Deleted')\n",
    "except Exception as ex:\n",
    "    print (ex)\n"
   ]
  },
  {
   "cell_type": "markdown",
   "metadata": {},
   "source": [
    "Execute this for semantic ranking part of test"
   ]
  },
  {
   "cell_type": "code",
   "execution_count": 106,
   "metadata": {},
   "outputs": [],
   "source": [
    "\n",
    "\n",
    "# Specify the index schema\n",
    "name = index_name\n",
    "fields = [\n",
    "        SimpleField(name=\"HotelId\", type=SearchFieldDataType.String, key=True),\n",
    "        SearchableField(name=\"HotelName\", type=SearchFieldDataType.String, sortable=True),\n",
    "        SearchableField(name=\"Description\", type=SearchFieldDataType.String, analyzer_name=\"en.lucene\"),\n",
    "        SearchableField(name=\"Description_fr\", type=SearchFieldDataType.String, analyzer_name=\"fr.lucene\"),\n",
    "        SearchableField(name=\"Category\", type=SearchFieldDataType.String, facetable=True, filterable=True, sortable=True),\n",
    "\n",
    "        SearchableField(name=\"Tags\", collection=True, type=SearchFieldDataType.String, facetable=True, filterable=True),\n",
    "\n",
    "        SimpleField(name=\"ParkingIncluded\", type=SearchFieldDataType.Boolean, facetable=True, filterable=True, sortable=True),\n",
    "        SimpleField(name=\"LastRenovationDate\", type=SearchFieldDataType.DateTimeOffset, facetable=True, filterable=True, sortable=True),\n",
    "        SearchableField(name=\"Rating\", type=SearchFieldDataType.String, facetable=True, filterable=True, sortable=True),\n",
    "\n",
    "        ComplexField(name=\"Address\", fields=[\n",
    "            SearchableField(name=\"StreetAddress\", type=SearchFieldDataType.String),\n",
    "            SearchableField(name=\"City\", type=SearchFieldDataType.String, facetable=True, filterable=True, sortable=True),\n",
    "            SearchableField(name=\"StateProvince\", type=SearchFieldDataType.String, facetable=True, filterable=True, sortable=True),\n",
    "            SearchableField(name=\"PostalCode\", type=SearchFieldDataType.String, facetable=True, filterable=True, sortable=True),\n",
    "            SearchableField(name=\"Country\", type=SearchFieldDataType.String, facetable=True, filterable=True, sortable=True),\n",
    "        ])\n",
    "    ]\n",
    "\n",
    "semantic_config = SemanticConfiguration(\n",
    "    name=\"my-semantic-config\",\n",
    "    prioritized_fields=SemanticPrioritizedFields(\n",
    "        title_field=SemanticField(field_name=\"HotelName\"),\n",
    "        keywords_fields=[SemanticField(field_name=\"Category\")],\n",
    "        content_fields=[SemanticField(field_name=\"Description\")]\n",
    "    )\n",
    ")\n",
    "\n",
    "semantic_search = SemanticSearch(configurations=[semantic_config])\n",
    "suggester = [{'name': 'sg', 'source_fields': ['Tags', 'Address/City', 'Address/Country']}]\n",
    "scoring_profiles = []"
   ]
  },
  {
   "cell_type": "markdown",
   "metadata": {},
   "source": [
    "execute for semantic search"
   ]
  },
  {
   "cell_type": "code",
   "execution_count": 107,
   "metadata": {},
   "outputs": [
    {
     "name": "stdout",
     "output_type": "stream",
     "text": [
      "Index hotel-finder-semantic created\n"
     ]
    }
   ],
   "source": [
    "index = SearchIndex(\n",
    "    name=name,\n",
    "    fields=fields,\n",
    "    semantic_search = semantic_search,\n",
    "    scoring_profiles=scoring_profiles,\n",
    "    suggesters=suggester)\n",
    "\n",
    "try:\n",
    "    result = admin_client.create_index(index)\n",
    "    print ('Index', result.name, 'created')\n",
    "except Exception as ex:\n",
    "    print (ex)"
   ]
  },
  {
   "attachments": {},
   "cell_type": "markdown",
   "metadata": {},
   "source": [
    "Next, provide documents that conform to the index schema. Specify an upload action for each document."
   ]
  },
  {
   "cell_type": "code",
   "execution_count": 86,
   "metadata": {},
   "outputs": [],
   "source": [
    "documents = [\n",
    "    {\n",
    "    \"@search.action\": \"upload\",\n",
    "    \"HotelId\": \"1\",\n",
    "    \"HotelName\": \"Secret Point Motel\",\n",
    "    \"Description\": \"The hotel is ideally located on the main commercial artery of the city in the heart of New York. A few minutes away is Time's Square and the historic centre of the city, as well as other places of interest that make New York one of America's most attractive and cosmopolitan cities.\",\n",
    "    \"Description_fr\": \"L'hôtel est idéalement situé sur la principale artère commerciale de la ville en plein cœur de New York. A quelques minutes se trouve la place du temps et le centre historique de la ville, ainsi que d'autres lieux d'intérêt qui font de New York l'une des villes les plus attractives et cosmopolites de l'Amérique.\",\n",
    "    \"Category\": \"Boutique\",\n",
    "    \"Tags\": [ \"pool\", \"air conditioning\", \"concierge\" ],\n",
    "    \"ParkingIncluded\": \"false\",\n",
    "    \"LastRenovationDate\": \"1970-01-18T00:00:00Z\",\n",
    "    \"Rating\": \"3.60\",\n",
    "    \"Address\": {\n",
    "        \"StreetAddress\": \"677 5th Ave\",\n",
    "        \"City\": \"New York\",\n",
    "        \"StateProvince\": \"NY\",\n",
    "        \"PostalCode\": \"10022\",\n",
    "        \"Country\": \"USA\"\n",
    "        }\n",
    "    },\n",
    "    {\n",
    "    \"@search.action\": \"upload\",\n",
    "    \"HotelId\": \"2\",\n",
    "    \"HotelName\": \"Twin Dome Motel\",\n",
    "    \"Description\": \"The hotel is situated in a  nineteenth century plaza, which has been expanded and renovated to the highest architectural standards to create a modern, functional and first-class hotel in which art and unique historical elements coexist with the most modern comforts.\",\n",
    "    \"Description_fr\": \"L'hôtel est situé dans une place du XIXe siècle, qui a été agrandie et rénovée aux plus hautes normes architecturales pour créer un hôtel moderne, fonctionnel et de première classe dans lequel l'art et les éléments historiques uniques coexistent avec le confort le plus moderne.\",\n",
    "    \"Category\": \"Boutique\",\n",
    "    \"Tags\": [ \"pool\", \"free wifi\", \"concierge\" ],\n",
    "    \"ParkingIncluded\": \"false\",\n",
    "    \"LastRenovationDate\": \"1979-02-18T00:00:00Z\",\n",
    "    \"Rating\": \"3.60\",\n",
    "    \"Address\": {\n",
    "        \"StreetAddress\": \"140 University Town Center Dr\",\n",
    "        \"City\": \"Sarasota\",\n",
    "        \"StateProvince\": \"FL\",\n",
    "        \"PostalCode\": \"34243\",\n",
    "        \"Country\": \"USA\"\n",
    "        }\n",
    "    },\n",
    "    {\n",
    "    \"@search.action\": \"upload\",\n",
    "    \"HotelId\": \"3\",\n",
    "    \"HotelName\": \"Triple Landscape Hotel\",\n",
    "    \"Description\": \"The Hotel stands out for its gastronomic excellence under the management of William Dough, who advises on and oversees all of the Hotel's restaurant services.\",\n",
    "    \"Description_fr\": \"L'hôtel est situé dans une place du XIXe siècle, qui a été agrandie et rénovée aux plus hautes normes architecturales pour créer un hôtel moderne, fonctionnel et de première classe dans lequel l'art et les éléments historiques uniques coexistent avec le confort le plus moderne.\",\n",
    "    \"Category\": \"Resort and Spa\",\n",
    "    \"Tags\": [ \"air conditioning\", \"bar\", \"continental breakfast\" ],\n",
    "    \"ParkingIncluded\": \"true\",\n",
    "    \"LastRenovationDate\": \"2015-09-20T00:00:00Z\",\n",
    "    \"Rating\": \"4.80\",\n",
    "    \"Address\": {\n",
    "        \"StreetAddress\": \"3393 Peachtree Rd\",\n",
    "        \"City\": \"Atlanta\",\n",
    "        \"StateProvince\": \"GA\",\n",
    "        \"PostalCode\": \"30326\",\n",
    "        \"Country\": \"USA\"\n",
    "        }\n",
    "    },\n",
    "    {\n",
    "    \"@search.action\": \"upload\",\n",
    "    \"HotelId\": \"4\",\n",
    "    \"HotelName\": \"Sublime Cliff Hotel\",\n",
    "    \"Description\": \"Sublime Cliff Hotel is located in the heart of the historic center of Sublime in an extremely vibrant and lively area within short walking distance to the sites and landmarks of the city and is surrounded by the extraordinary beauty of churches, buildings, shops and monuments. Sublime Cliff is part of a lovingly restored 1800 palace.\",\n",
    "    \"Description_fr\": \"Le sublime Cliff Hotel est situé au coeur du centre historique de sublime dans un quartier extrêmement animé et vivant, à courte distance de marche des sites et monuments de la ville et est entouré par l'extraordinaire beauté des églises, des bâtiments, des commerces et Monuments. Sublime Cliff fait partie d'un Palace 1800 restauré avec amour.\",\n",
    "    \"Category\": \"Boutique\",\n",
    "    \"Tags\": [ \"concierge\", \"view\", \"24-hour front desk service\" ],\n",
    "    \"ParkingIncluded\": \"true\",\n",
    "    \"LastRenovationDate\": \"1960-02-06T00:00:00Z\",\n",
    "    \"Rating\": \"4.60\",\n",
    "    \"Address\": {\n",
    "        \"StreetAddress\": \"7400 San Pedro Ave\",\n",
    "        \"City\": \"San Antonio\",\n",
    "        \"StateProvince\": \"TX\",\n",
    "        \"PostalCode\": \"78216\",\n",
    "        \"Country\": \"USA\"\n",
    "        }\n",
    "    }\n",
    "]"
   ]
  },
  {
   "attachments": {},
   "cell_type": "markdown",
   "metadata": {},
   "source": [
    "Formulate the request. This upload_documents request targets the docs collection of the hotels-quickstart index and pushes the documents provided in the previous step into the search index."
   ]
  },
  {
   "cell_type": "code",
   "execution_count": 87,
   "metadata": {},
   "outputs": [
    {
     "name": "stdout",
     "output_type": "stream",
     "text": [
      "Upload of new document succeeded: True\n"
     ]
    }
   ],
   "source": [
    "try:\n",
    "    result = search_client.upload_documents(documents=documents)\n",
    "    print(\"Upload of new document succeeded: {}\".format(result[0].succeeded))\n",
    "except Exception as ex:\n",
    "    print (ex.message)"
   ]
  },
  {
   "cell_type": "code",
   "execution_count": 88,
   "metadata": {},
   "outputs": [
    {
     "name": "stdout",
     "output_type": "stream",
     "text": [
      "Total Documents Matching Query: 4\n",
      "1.0\n",
      "Triple Landscape Hotel\n",
      "1.0\n",
      "Twin Dome Motel\n",
      "1.0\n",
      "Sublime Cliff Hotel\n",
      "1.0\n",
      "Secret Point Motel\n"
     ]
    }
   ],
   "source": [
    "results =  search_client.search(query_type='simple',\n",
    "    search_text=\"*\" ,\n",
    "    select='HotelName,Description', \n",
    "    include_total_count=True)\n",
    "\n",
    "print ('Total Documents Matching Query:', results.get_count())\n",
    "for result in results:\n",
    "    print(result[\"@search.score\"])\n",
    "    print(result[\"HotelName\"])"
   ]
  },
  {
   "cell_type": "code",
   "execution_count": 90,
   "metadata": {},
   "outputs": [
    {
     "name": "stdout",
     "output_type": "stream",
     "text": [
      "Total Documents Matching Query: 4\n",
      "1.0144587\n",
      "3: Triple Landscape Hotel - 4.80 rating\n",
      "0.9284746\n",
      "4: Sublime Cliff Hotel - 4.60 rating\n",
      "0.51237863\n",
      "1: Secret Point Motel - 3.60 rating\n",
      "0.509938\n",
      "2: Twin Dome Motel - 3.60 rating\n"
     ]
    }
   ],
   "source": [
    "results =  search_client.search(query_type='simple',search_text=\"hotel\" ,select='HotelId,HotelName,Rating', order_by='Rating desc', include_total_count=True)\n",
    "\n",
    "print ('Total Documents Matching Query:', results.get_count())\n",
    "for result in results:\n",
    "    print(result[\"@search.score\"])\n",
    "    print(\"{}: {} - {} rating\".format(result[\"HotelId\"], result[\"HotelName\"], result[\"Rating\"]))"
   ]
  },
  {
   "cell_type": "code",
   "execution_count": 92,
   "metadata": {},
   "outputs": [
    {
     "name": "stdout",
     "output_type": "stream",
     "text": [
      "Total Documents Matching Query: 2\n",
      "0.6099695\n",
      "2: Twin Dome Motel - 3.60 rating\n",
      "0.25316024\n",
      "1: Secret Point Motel - 3.60 rating\n"
     ]
    }
   ],
   "source": [
    "results = search_client.search(search_text=\"motel\", select='HotelId,HotelName,Rating',  order_by='Rating desc', include_total_count=True)\n",
    "print ('Total Documents Matching Query:', results.get_count())\n",
    "for result in results:\n",
    "    print(result[\"@search.score\"])\n",
    "    print(\"{}: {} - {} rating\".format(result[\"HotelId\"], result[\"HotelName\"], result[\"Rating\"]))"
   ]
  },
  {
   "cell_type": "code",
   "execution_count": 93,
   "metadata": {},
   "outputs": [
    {
     "name": "stdout",
     "output_type": "stream",
     "text": [
      "Total Documents Matching Query: 1\n",
      "0.6099695\n",
      "4: Sublime Cliff Hotel\n"
     ]
    }
   ],
   "source": [
    "results = search_client.search(search_text=\"sublime\", search_fields=['HotelName'], select='HotelId,HotelName', include_total_count=True)\n",
    "print ('Total Documents Matching Query:', results.get_count())\n",
    "\n",
    "for result in results:\n",
    "    print(result[\"@search.score\"])\n",
    "    print(\"{}: {}\".format(result[\"HotelId\"], result[\"HotelName\"]))"
   ]
  },
  {
   "cell_type": "code",
   "execution_count": 94,
   "metadata": {},
   "outputs": [
    {
     "name": "stdout",
     "output_type": "stream",
     "text": [
      "Total Documents Matching Query: 1\n",
      "0.78019357\n",
      "2: Twin Dome Motel: ['pool', 'free wifi', 'concierge']\n"
     ]
    }
   ],
   "source": [
    "results = search_client.search(search_text=\"wifi\", include_total_count=True, select='HotelId,HotelName,Tags')\n",
    "print ('Total Documents Matching Query:', results.get_count())\n",
    "for result in results:\n",
    "    print(result[\"@search.score\"])\n",
    "    print(\"{}: {}: {}\".format(result[\"HotelId\"], result[\"HotelName\"], result[\"Tags\"]))"
   ]
  },
  {
   "cell_type": "code",
   "execution_count": 96,
   "metadata": {},
   "outputs": [
    {
     "name": "stdout",
     "output_type": "stream",
     "text": [
      "2.1393623\n",
      "None\n",
      "Sublime Cliff Hotel\n",
      "1.9309065\n",
      "None\n",
      "Twin Dome Motel\n",
      "1.5589908\n",
      "None\n",
      "Triple Landscape Hotel\n",
      "0.7704947\n",
      "None\n",
      "Secret Point Motel\n"
     ]
    }
   ],
   "source": [
    "results =  search_client.search(query_type='simple',\n",
    "    search_text=\"what hotel has a good restaurant on site\" ,\n",
    "    select='HotelName,HotelId,Description')\n",
    "\n",
    "for result in results:\n",
    "    print(result[\"@search.score\"])\n",
    "    print(result[\"@search.reranker_score\"])\n",
    "    print(result[\"HotelName\"])\n",
    "    "
   ]
  },
  {
   "cell_type": "code",
   "execution_count": 98,
   "metadata": {},
   "outputs": [
    {
     "name": "stdout",
     "output_type": "stream",
     "text": [
      "1.5589908\n",
      "1.8807636499404907\n",
      "Triple Landscape Hotel\n",
      "2.1393623\n",
      "1.527956485748291\n",
      "Sublime Cliff Hotel\n",
      "0.7704947\n",
      "1.3261334896087646\n",
      "Secret Point Motel\n",
      "1.9309065\n",
      "1.0473345518112183\n",
      "Twin Dome Motel\n"
     ]
    }
   ],
   "source": [
    "results =  search_client.search(query_type='semantic',semantic_configuration_name='my-semantic-config',\n",
    "    search_text=\"what hotel has a good restaurant on site\" ,\n",
    "    select='HotelName,HotelId,Description')\n",
    "\n",
    "for result in results:\n",
    "    print(result[\"@search.score\"])\n",
    "    print(result[\"@search.reranker_score\"])\n",
    "    print(result[\"HotelName\"])\n",
    "    "
   ]
  },
  {
   "cell_type": "code",
   "execution_count": 100,
   "metadata": {},
   "outputs": [
    {
     "name": "stdout",
     "output_type": "stream",
     "text": [
      "2.3295155\n",
      "None\n",
      "Triple Landscape Hotel\n",
      "0.9284746\n",
      "None\n",
      "Sublime Cliff Hotel\n",
      "0.51237863\n",
      "None\n",
      "Secret Point Motel\n",
      "0.509938\n",
      "None\n",
      "Twin Dome Motel\n"
     ]
    }
   ],
   "source": [
    "results =  search_client.search(query_type='simple',\n",
    "    search_text=\"what hotel stands out for its gastronomic excellence\", \n",
    "    select='HotelName,Description,Category')\n",
    "\n",
    "for result in results:\n",
    "    print(result[\"@search.score\"])\n",
    "    print(result[\"@search.reranker_score\"])\n",
    "    print(result[\"HotelName\"])"
   ]
  },
  {
   "cell_type": "code",
   "execution_count": 102,
   "metadata": {},
   "outputs": [
    {
     "name": "stdout",
     "output_type": "stream",
     "text": [
      "0.26301134\n",
      "0.9669117331504822\n",
      "Triple Landscape Hotel\n",
      "1.6842916\n",
      "0.061580806970596313\n",
      "Twin Dome Motel\n"
     ]
    }
   ],
   "source": [
    "results =  search_client.search(query_type='semantic', semantic_configuration_name='my-semantic-config',\n",
    "    search_text=\"which restaurant has rating of 4 or over?\", \n",
    "    select='HotelName,Description,Category', query_caption='extractive')\n",
    "\n",
    "for result in results:\n",
    "    print(result[\"@search.score\"])\n",
    "    print(result[\"@search.reranker_score\"])\n",
    "    print(result[\"HotelName\"])"
   ]
  },
  {
   "cell_type": "code",
   "execution_count": 103,
   "metadata": {},
   "outputs": [
    {
     "name": "stdout",
     "output_type": "stream",
     "text": [
      "Index hotel-finder-semantic Deleted\n"
     ]
    }
   ],
   "source": [
    "try:\n",
    "    result = admin_client.delete_index(index_name)\n",
    "    print ('Index', index_name, 'Deleted')\n",
    "except Exception as ex:\n",
    "    print (ex)"
   ]
  },
  {
   "cell_type": "code",
   "execution_count": 54,
   "metadata": {},
   "outputs": [
    {
     "name": "stdout",
     "output_type": "stream",
     "text": [
      "() No index with the name 'hotel-finder-semantic' was found in the service 'aisearchmcuksouth'.\n",
      "Code: \n",
      "Message: No index with the name 'hotel-finder-semantic' was found in the service 'aisearchmcuksouth'.\n"
     ]
    }
   ],
   "source": [
    "try:\n",
    "    result = admin_client.get_index(index_name)\n",
    "    print (result)\n",
    "except Exception as ex:\n",
    "    print (ex)"
   ]
  }
 ],
 "metadata": {
  "kernelspec": {
   "display_name": "Python 3",
   "language": "python",
   "name": "python3"
  },
  "language_info": {
   "codemirror_mode": {
    "name": "ipython",
    "version": 3
   },
   "file_extension": ".py",
   "mimetype": "text/x-python",
   "name": "python",
   "nbconvert_exporter": "python",
   "pygments_lexer": "ipython3",
   "version": "3.11.7"
  },
  "vscode": {
   "interpreter": {
    "hash": "9ff083f0c83558f9261023d47a77b9b3eb892c62cdbe066d046abcad1a5edb5c"
   }
  }
 },
 "nbformat": 4,
 "nbformat_minor": 2
}
